{
 "cells": [
  {
   "cell_type": "code",
   "execution_count": 7,
   "id": "dbf7dc66",
   "metadata": {},
   "outputs": [
    {
     "name": "stdout",
     "output_type": "stream",
     "text": [
      "Twinkle,Twinkle,little star\n",
      "       How i wonder what you are!\n",
      "               Up above the world so high\n",
      "               like a diamond in the sky\n",
      "Twinkle,Twinkle,little star\n",
      "       How i wonder what you are!\n"
     ]
    }
   ],
   "source": [
    "print(\"Twinkle,Twinkle,little star\")\n",
    "print(\"       How i wonder what you are!\")\n",
    "print(\"               Up above the world so high\")\n",
    "print(\"               like a diamond in the sky\")\n",
    "print(\"Twinkle,Twinkle,little star\")\n",
    "print(\"       How i wonder what you are!\")"
   ]
  },
  {
   "cell_type": "code",
   "execution_count": 10,
   "id": "91349372",
   "metadata": {},
   "outputs": [
    {
     "name": "stdout",
     "output_type": "stream",
     "text": [
      "python version\n",
      "3.8.8 (default, Apr 13 2021, 15:08:03) [MSC v.1916 64 bit (AMD64)]\n",
      "python info\n",
      "sys.version_info(major=3, minor=8, micro=8, releaselevel='final', serial=0)\n"
     ]
    }
   ],
   "source": [
    "import sys\n",
    "print(\"python version\")\n",
    "print(sys.version)\n",
    "print(\"python info\")\n",
    "print (sys.version_info)"
   ]
  },
  {
   "cell_type": "code",
   "execution_count": 12,
   "id": "5d91b233",
   "metadata": {},
   "outputs": [
    {
     "name": "stdout",
     "output_type": "stream",
     "text": [
      "Current date and time s: \n",
      "21-10-24 01:34:51\n"
     ]
    }
   ],
   "source": [
    "import datetime\n",
    "now = datetime.datetime.now()\n",
    "print(\"Current date and time s: \")\n",
    "print(now.strftime(\"%y-%m-%d %H:%M:%S\"))"
   ]
  },
  {
   "cell_type": "code",
   "execution_count": 14,
   "id": "a77409db",
   "metadata": {},
   "outputs": [
    {
     "name": "stdout",
     "output_type": "stream",
     "text": [
      "Enter the radius of the circle : 20\n",
      "Area of the circle is : 1256.6370614359173\n"
     ]
    }
   ],
   "source": [
    "import math\n",
    "radius = float(input(\"Enter the radius of the circle : \"))\n",
    "area = math.pi * radius * radius\n",
    "print(\"Area of the circle is : {0}\".format(area))"
   ]
  },
  {
   "cell_type": "code",
   "execution_count": 16,
   "id": "603be62c",
   "metadata": {},
   "outputs": [
    {
     "name": "stdout",
     "output_type": "stream",
     "text": [
      "Enter your First Name: Husban\n",
      "Enter Your Last Name: Shakeel\n",
      "Hello:Shakeel Husban\n"
     ]
    }
   ],
   "source": [
    "firstName = input(\"Enter your First Name: \")\n",
    "LastName = input(\"Enter Your Last Name: \")\n",
    "print(\"Hello:\" + LastName + \" \" + firstName )"
   ]
  },
  {
   "cell_type": "code",
   "execution_count": 17,
   "id": "5b83e0f2",
   "metadata": {},
   "outputs": [
    {
     "name": "stdout",
     "output_type": "stream",
     "text": [
      "First Number: 10\n",
      "Second Number:  20\n",
      "Sum of 10 and 20 is 30.0\n"
     ]
    }
   ],
   "source": [
    "num1 = input (\"First Number: \")\n",
    "num2 = input (\"Second Number:  \")\n",
    "sum = float(num1) + float(num2)\n",
    "print(\"Sum of {0} and {1} is {2}\" .format(num1,num2,sum))"
   ]
  },
  {
   "cell_type": "markdown",
   "id": "282485e6",
   "metadata": {},
   "source": []
  },
  {
   "cell_type": "code",
   "execution_count": 1,
   "id": "e2f2aadf",
   "metadata": {},
   "outputs": [],
   "source": [
    "#sir is ke age ke atey ha but time ki kami ki wja se nh kar paya sir plz thora time or dedey  "
   ]
  },
  {
   "cell_type": "code",
   "execution_count": 6,
   "id": "ea097986",
   "metadata": {},
   "outputs": [
    {
     "data": {
      "text/plain": [
       "6"
      ]
     },
     "execution_count": 6,
     "metadata": {},
     "output_type": "execute_result"
    }
   ],
   "source": [
    "6"
   ]
  },
  {
   "cell_type": "code",
   "execution_count": null,
   "id": "1e400aa5",
   "metadata": {},
   "outputs": [],
   "source": []
  }
 ],
 "metadata": {
  "kernelspec": {
   "display_name": "Python 3",
   "language": "python",
   "name": "python3"
  },
  "language_info": {
   "codemirror_mode": {
    "name": "ipython",
    "version": 3
   },
   "file_extension": ".py",
   "mimetype": "text/x-python",
   "name": "python",
   "nbconvert_exporter": "python",
   "pygments_lexer": "ipython3",
   "version": "3.8.8"
  }
 },
 "nbformat": 4,
 "nbformat_minor": 5
}
